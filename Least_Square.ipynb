{
  "nbformat": 4,
  "nbformat_minor": 0,
  "metadata": {
    "colab": {
      "provenance": []
    },
    "kernelspec": {
      "name": "python3",
      "display_name": "Python 3"
    },
    "language_info": {
      "name": "python"
    }
  },
  "cells": [
    {
      "cell_type": "code",
      "execution_count": 2,
      "metadata": {
        "colab": {
          "base_uri": "https://localhost:8080/"
        },
        "id": "7Clo2l8qoVfs",
        "outputId": "fb5daba4-12eb-4801-b79e-fa5380566565"
      },
      "outputs": [
        {
          "output_type": "execute_result",
          "data": {
            "text/plain": [
              "array([[1, 1],\n",
              "       [0, 1],\n",
              "       [1, 1]])"
            ]
          },
          "metadata": {},
          "execution_count": 2
        }
      ],
      "source": [
        "from numpy import array\n",
        "from numpy.linalg import lstsq\n",
        "\n",
        "# Data points\n",
        "x = array([-1, 0, 1])\n",
        "y = array([3.1, 0.9, 2.9])\n",
        "\n",
        "# Creating the matrix A for Ax = B\n",
        "A = array([x**2, [1, 1, 1]]).T\n",
        "\n",
        "# Using least squares to solve for a and b\n",
        "coefficients, _, _, _ = lstsq(A, y, rcond=None)\n",
        "a, b = coefficients\n",
        "\n",
        "a, b\n",
        "A\n"
      ]
    },
    {
      "cell_type": "code",
      "source": [
        "def transpose(matrix):\n",
        "    return [list(row) for row in zip(*matrix)]\n",
        "\n",
        "def multiply_matrices(A, B):\n",
        "    result = [[sum(a * b for a, b in zip(A_row, B_col)) for B_col in zip(*B)] for A_row in A]\n",
        "    return result\n",
        "\n",
        "def inverse(matrix):\n",
        "    # This function computes the inverse of a 2x2 matrix.\n",
        "    # It's a simplified version, works only for 2x2 matrices.\n",
        "    det = matrix[0][0] * matrix[1][1] - matrix[0][1] * matrix[1][0]\n",
        "    if det == 0:\n",
        "        raise ValueError(\"Matrix is not invertible\")\n",
        "    return [[matrix[1][1] / det, -matrix[0][1] / det], [-matrix[1][0] / det, matrix[0][0] / det]]\n",
        "\n",
        "# Data and matrices\n",
        "A = [[1, 1], [0, 1], [1, 1]]\n",
        "B = [[3.1], [0.9], [2.9]]\n",
        "\n",
        "# Least Squares computation\n",
        "A_T = transpose(A)\n",
        "A_TA = multiply_matrices(A_T, A)\n",
        "A_TB = multiply_matrices(A_T, B)\n",
        "inv_A_TA = inverse(A_TA)\n",
        "x = multiply_matrices(inv_A_TA, A_TB)\n",
        "\n",
        "# Extracting coefficients a and b\n",
        "a, b = x[0][0], x[1][0]\n",
        "\n",
        "print(f\"a = {a}, b = {b}\")\n",
        "print(\"A_T =\", A_T)\n",
        "print(\"A_TA =\", A_TA)\n",
        "print(\"A_TB =\", A_TB)\n",
        "print(\"inv_A_TA =\", inv_A_TA)\n",
        "print(\"x =\", x)\n"
      ],
      "metadata": {
        "colab": {
          "base_uri": "https://localhost:8080/"
        },
        "id": "TD68o-V2ow0F",
        "outputId": "c9110907-c8a7-41d8-8f8b-c49f01706c22"
      },
      "execution_count": 4,
      "outputs": [
        {
          "output_type": "stream",
          "name": "stdout",
          "text": [
            "a = 2.0999999999999996, b = 0.9000000000000004\n",
            "A_T = [[1, 0, 1], [1, 1, 1]]\n",
            "A_TA = [[2, 2], [2, 3]]\n",
            "A_TB = [[6.0], [6.9]]\n",
            "inv_A_TA = [[1.5, -1.0], [-1.0, 1.0]]\n",
            "x = [[2.0999999999999996], [0.9000000000000004]]\n"
          ]
        }
      ]
    },
    {
      "cell_type": "code",
      "source": [
        "# Define the transpose function\n",
        "def transpose(matrix):\n",
        "    return [list(row) for row in zip(*matrix)]\n",
        "\n",
        "# Define the function for matrix multiplication\n",
        "def multiply_matrices(A, B):\n",
        "    return [[sum(a * b for a, b in zip(A_row, B_col)) for B_col in zip(*B)] for A_row in A]\n",
        "\n",
        "# Define the function for finding the inverse of a 2x2 matrix\n",
        "def inverse(matrix):\n",
        "    det = matrix[0][0] * matrix[1][1] - matrix[0][1] * matrix[1][0]\n",
        "    if det == 0:\n",
        "        raise ValueError(\"Matrix is not invertible\")\n",
        "    return [[matrix[1][1] / det, -matrix[0][1] / det], [-matrix[1][0] / det, matrix[0][0] / det]]\n",
        "\n",
        "# Data points\n",
        "x_values = [1, 2, 3, 4]\n",
        "y_values = [0, 1, 1, 2]\n",
        "\n",
        "# Creating the matrix A and vector B\n",
        "A = [[x, 1] for x in x_values]  # Matrix A with columns for x^1 and x^0 (constant)\n",
        "B = [[y] for y in y_values]     # Vector B with y-values\n",
        "\n",
        "# Calculating A_T, A_TA, A_TB, inv_A_TA, and x\n",
        "A_T = transpose(A)                     # Transpose of A\n",
        "A_TA = multiply_matrices(A_T, A)       # A_T multiplied by A\n",
        "A_TB = multiply_matrices(A_T, B)       # A_T multiplied by B\n",
        "inv_A_TA = inverse(A_TA)               # Inverse of A_TA\n",
        "x = multiply_matrices(inv_A_TA, A_TB)  # Final result: inv(A_TA) multiplied by A_TB\n",
        "\n",
        "# Extracting coefficients a and b\n",
        "a, b = x[0][0], x[1][0]\n",
        "\n",
        "# Print each step and the result\n",
        "print(\"Matrix A:\", A)\n",
        "print(\"Vector B:\", B)\n",
        "print(\"Transpose of A (A_T):\", A_T)\n",
        "print(\"A_T multiplied by A (A_TA):\", A_TA)\n",
        "print(\"A_T multiplied by B (A_TB):\", A_TB)\n",
        "print(\"Inverse of A_TA (inv_A_TA):\", inv_A_TA)\n",
        "print(\"Solution (x):\", x)\n",
        "print(f\"Best fitting line: y = {a}x + {b}\")\n"
      ],
      "metadata": {
        "colab": {
          "base_uri": "https://localhost:8080/"
        },
        "id": "gXjmIry4rL6O",
        "outputId": "14874d35-ef31-45aa-e204-5acb89a50988"
      },
      "execution_count": 9,
      "outputs": [
        {
          "output_type": "stream",
          "name": "stdout",
          "text": [
            "Matrix A: [[1, 1, 1], [1, 2, 4], [1, 3, 9], [1, 4, 16], [1, 5, 25], [1, 6, 36], [1, 7, 49]]\n",
            "Vector B: [[2.31], [2.01], [1.8], [1.66], [1.55], [1.47], [1.41]]\n",
            "Transpose of A (A_T): [[1, 1, 1, 1, 1, 1, 1], [1, 2, 3, 4, 5, 6, 7], [1, 4, 9, 16, 25, 36, 49]]\n",
            "A_T multiplied by A (A_TA): [[7, 28, 140], [28, 140, 784], [140, 784, 4676]]\n",
            "A_T multiplied by B (A_TB): [[12.21], [44.809999999999995], [213.87]]\n",
            "Inverse of A_TA (inv_A_TA): [[0.7142857142857143, -0.14285714285714285], [-0.14285714285714285, 0.03571428571428571]]\n",
            "Solution (x): [[2.320000000000001], [-0.14392857142857163]]\n",
            "Best fitting line: y = 2.320000000000001x + -0.14392857142857163\n"
          ]
        }
      ]
    },
    {
      "cell_type": "code",
      "source": [
        "import numpy as np\n",
        "\n",
        "# Data points\n",
        "T_values = np.array([1, 2, 3, 4, 5, 6, 7])\n",
        "V_values = np.array([2.31, 2.01, 1.80, 1.66, 1.55, 1.47, 1.41])\n",
        "\n",
        "# Creating the matrix A (coefficient matrix) and vector B\n",
        "A = np.column_stack((np.ones(len(T_values)), T_values, T_values**2))\n",
        "B = V_values.reshape(-1, 1)\n",
        "\n",
        "# Calculating intermediate matrices\n",
        "A_T = A.T\n",
        "A_TA = A_T @ A\n",
        "A_TB = A_T @ B\n",
        "inv_A_TA = np.linalg.inv(A_TA)\n",
        "\n",
        "# Solution for x (coefficients a, b, c)\n",
        "x = inv_A_TA @ A_TB\n",
        "\n",
        "# Extracting coefficients a, b, and c\n",
        "a, b, c = x.flatten()\n",
        "\n",
        "# Print the intermediate matrices and the result\n",
        "print(\"Matrix A:\\n\", A)\n",
        "print(\"Vector B:\\n\", B)\n",
        "print(\"Transpose of A (A_T):\\n\", A_T)\n",
        "print(\"A_T multiplied by A (A_TA):\\n\", A_TA)\n",
        "print(\"A_T multiplied by B (A_TB):\\n\", A_TB)\n",
        "print(\"Inverse of A_TA (inv_A_TA):\\n\", inv_A_TA)\n",
        "print(\"Solution (x):\\n\", x)\n",
        "print(f\"Best fitting curve: V = {a} + {b}T + {c}T^2\")\n",
        "\n"
      ],
      "metadata": {
        "colab": {
          "base_uri": "https://localhost:8080/"
        },
        "id": "4Ftl6W9dsvG2",
        "outputId": "9ff5b4e0-2e9f-4cad-91ef-15cb4089addc"
      },
      "execution_count": 13,
      "outputs": [
        {
          "output_type": "stream",
          "name": "stdout",
          "text": [
            "Matrix A:\n",
            " [[ 1.  1.  1.]\n",
            " [ 1.  2.  4.]\n",
            " [ 1.  3.  9.]\n",
            " [ 1.  4. 16.]\n",
            " [ 1.  5. 25.]\n",
            " [ 1.  6. 36.]\n",
            " [ 1.  7. 49.]]\n",
            "Vector B:\n",
            " [[2.31]\n",
            " [2.01]\n",
            " [1.8 ]\n",
            " [1.66]\n",
            " [1.55]\n",
            " [1.47]\n",
            " [1.41]]\n",
            "Transpose of A (A_T):\n",
            " [[ 1.  1.  1.  1.  1.  1.  1.]\n",
            " [ 1.  2.  3.  4.  5.  6.  7.]\n",
            " [ 1.  4.  9. 16. 25. 36. 49.]]\n",
            "A_T multiplied by A (A_TA):\n",
            " [[   7.   28.  140.]\n",
            " [  28.  140.  784.]\n",
            " [ 140.  784. 4676.]]\n",
            "A_T multiplied by B (A_TB):\n",
            " [[ 12.21]\n",
            " [ 44.81]\n",
            " [213.87]]\n",
            "Inverse of A_TA (inv_A_TA):\n",
            " [[ 2.42857143 -1.28571429  0.14285714]\n",
            " [-1.28571429  0.79761905 -0.0952381 ]\n",
            " [ 0.14285714 -0.0952381   0.01190476]]\n",
            "Solution (x):\n",
            " [[ 2.59285714]\n",
            " [-0.32583333]\n",
            " [ 0.0227381 ]]\n",
            "Best fitting curve: V = 2.5928571428571656 + -0.32583333333334014T + 0.02273809523809533T^2\n"
          ]
        }
      ]
    },
    {
      "cell_type": "code",
      "source": [
        "import numpy as np\n",
        "\n",
        "# Data points\n",
        "x_values = np.array([-1, -0.5, 0, 0.5, 1])\n",
        "y_values = np.array([-1, 0, 1, 2, 1])\n",
        "\n",
        "# Creating the matrix A (coefficient matrix) and vector B\n",
        "A = np.column_stack((np.sin(np.pi * x_values), np.cos(np.pi * x_values)))\n",
        "B = y_values.reshape(-1, 1)\n",
        "\n",
        "# Calculating intermediate matrices\n",
        "A_T = A.T\n",
        "A_TA = A_T @ A\n",
        "A_TB = A_T @ B\n",
        "inv_A_TA = np.linalg.inv(A_TA)\n",
        "\n",
        "# Solution for x (coefficients a, b)\n",
        "x = inv_A_TA @ A_TB\n",
        "\n",
        "# Extracting coefficients a and b\n",
        "a, b = x.flatten()\n",
        "\n",
        "# Print the intermediate matrices and the result\n",
        "print(\"Matrix A:\\n\", A)\n",
        "print(\"Vector B:\\n\", B)\n",
        "print(\"Transpose of A (A_T):\\n\", A_T)\n",
        "print(\"A_T multiplied by A (A_TA):\\n\", A_TA)\n",
        "print(\"A_T multiplied by B (A_TB):\\n\", A_TB)\n",
        "print(\"Inverse of A_TA (inv_A_TA):\\n\", inv_A_TA)\n",
        "print(\"Solution (x):\\n\", x)\n",
        "print(f\"Best fitting curve: f(x) = {a} * sin(pi * x) + {b} * cos(pi * x)\")\n"
      ],
      "metadata": {
        "colab": {
          "base_uri": "https://localhost:8080/"
        },
        "id": "3KprkWHZyfZX",
        "outputId": "604cef87-2607-44ae-fcba-be2e9dacaba0"
      },
      "execution_count": 14,
      "outputs": [
        {
          "output_type": "stream",
          "name": "stdout",
          "text": [
            "Matrix A:\n",
            " [[-1.2246468e-16 -1.0000000e+00]\n",
            " [-1.0000000e+00  6.1232340e-17]\n",
            " [ 0.0000000e+00  1.0000000e+00]\n",
            " [ 1.0000000e+00  6.1232340e-17]\n",
            " [ 1.2246468e-16 -1.0000000e+00]]\n",
            "Vector B:\n",
            " [[-1]\n",
            " [ 0]\n",
            " [ 1]\n",
            " [ 2]\n",
            " [ 1]]\n",
            "Transpose of A (A_T):\n",
            " [[-1.2246468e-16 -1.0000000e+00  0.0000000e+00  1.0000000e+00\n",
            "   1.2246468e-16]\n",
            " [-1.0000000e+00  6.1232340e-17  1.0000000e+00  6.1232340e-17\n",
            "  -1.0000000e+00]]\n",
            "A_T multiplied by A (A_TA):\n",
            " [[2. 0.]\n",
            " [0. 3.]]\n",
            "A_T multiplied by B (A_TB):\n",
            " [[2.]\n",
            " [1.]]\n",
            "Inverse of A_TA (inv_A_TA):\n",
            " [[0.5        0.        ]\n",
            " [0.         0.33333333]]\n",
            "Solution (x):\n",
            " [[1.        ]\n",
            " [0.33333333]]\n",
            "Best fitting curve: f(x) = 1.0 * sin(pi * x) + 0.3333333333333333 * cos(pi * x)\n"
          ]
        }
      ]
    }
  ]
}