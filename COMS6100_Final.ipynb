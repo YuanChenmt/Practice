{
  "nbformat": 4,
  "nbformat_minor": 0,
  "metadata": {
    "colab": {
      "provenance": []
    },
    "kernelspec": {
      "name": "python3",
      "display_name": "Python 3"
    },
    "language_info": {
      "name": "python"
    }
  },
  "cells": [
    {
      "cell_type": "code",
      "execution_count": null,
      "metadata": {
        "id": "kMyIi5XOR85e"
      },
      "outputs": [],
      "source": [
        "#!pip install pandas\n"
      ]
    },
    {
      "cell_type": "code",
      "source": [
        "!head -n 20 'Omyk.gtf'\n",
        "# i renamed the file"
      ],
      "metadata": {
        "colab": {
          "base_uri": "https://localhost:8080/"
        },
        "id": "aeR1RmKqV9Rk",
        "outputId": "bc6cbdc1-ef6d-4f76-9a92-52a1bd7daddf"
      },
      "execution_count": 9,
      "outputs": [
        {
          "output_type": "stream",
          "name": "stdout",
          "text": [
            "##gtf-version 3\n",
            "Omy01\tlincRNA\tgene\t33121\t33530\t.\t-\t.\tgene_id \"linc.1\"; transcript_id \"linc.1.1\"; ID \"linc.1\";\n",
            "Omy01\tlincRNA\ttranscript\t33121\t33530\t.\t-\t.\tgene_id \"linc.1\"; transcript_id \"linc.1.1\"; ID \"linc.1.1\"; Parent \"linc.1\";\n",
            "Omy01\tlincRNA\texon\t33121\t33530\t.\t-\t.\tgene_id \"linc.1\"; transcript_id \"linc.1.1\"; ID \"exon-1\"; Parent \"linc.1.1\";\n",
            "Omy01\tmRNA\tgene\t69623\t107252\t.\t+\t.\tgene_id \"PB.1\"; transcript_id \"PB.1.1\"; ID \"PB.1\";\n",
            "Omy01\tmRNA\ttranscript\t69623\t106492\t.\t+\t.\tgene_id \"PB.1\"; transcript_id \"PB.1.1\"; ID \"PB.1.1\"; Parent \"PB.1\";\n",
            "Omy01\tmRNA\texon\t69623\t69726\t.\t+\t.\tgene_id \"PB.1\"; transcript_id \"PB.1.1\"; ID \"exon-2\"; Parent \"PB.1.1\";\n",
            "Omy01\tmRNA\texon\t104531\t106492\t.\t+\t.\tgene_id \"PB.1\"; transcript_id \"PB.1.1\"; ID \"exon-10\"; Parent \"PB.1.1\";\n",
            "Omy01\tmRNA\ttranscript\t69623\t107016\t.\t+\t.\tgene_id \"PB.1\"; transcript_id \"PB.1.2\"; ID \"PB.1.2\"; Parent \"PB.1\";\n",
            "Omy01\tmRNA\texon\t69623\t69726\t.\t+\t.\tgene_id \"PB.1\"; transcript_id \"PB.1.2\"; ID \"exon-3\"; Parent \"PB.1.2\";\n",
            "Omy01\tmRNA\texon\t104531\t107016\t.\t+\t.\tgene_id \"PB.1\"; transcript_id \"PB.1.2\"; ID \"exon-11\"; Parent \"PB.1.2\";\n",
            "Omy01\tmRNA\ttranscript\t69623\t107252\t.\t+\t.\tgene_id \"PB.1\"; transcript_id \"PB.1.3\"; ID \"PB.1.3\"; Parent \"PB.1\";\n",
            "Omy01\tmRNA\texon\t69623\t69726\t.\t+\t.\tgene_id \"PB.1\"; transcript_id \"PB.1.3\"; ID \"exon-4\"; Parent \"PB.1.3\";\n",
            "Omy01\tmRNA\texon\t104531\t107252\t.\t+\t.\tgene_id \"PB.1\"; transcript_id \"PB.1.3\"; ID \"exon-12\"; Parent \"PB.1.3\";\n",
            "Omy01\tmRNA\ttranscript\t69671\t107252\t.\t+\t.\tgene_id \"PB.1\"; transcript_id \"PB.1.4\"; ID \"PB.1.4\"; Parent \"PB.1\";\n",
            "Omy01\tmRNA\texon\t69671\t69726\t.\t+\t.\tgene_id \"PB.1\"; transcript_id \"PB.1.4\"; ID \"exon-5\"; Parent \"PB.1.4\";\n",
            "Omy01\tmRNA\texon\t94332\t94968\t.\t+\t.\tgene_id \"PB.1\"; transcript_id \"PB.1.4\"; ID \"exon-6\"; Parent \"PB.1.4\";\n",
            "Omy01\tmRNA\texon\t104531\t107252\t.\t+\t.\tgene_id \"PB.1\"; transcript_id \"PB.1.4\"; ID \"exon-13\"; Parent \"PB.1.4\";\n",
            "Omy01\tmRNA\ttranscript\t94351\t107252\t.\t+\t.\tgene_id \"PB.1\"; transcript_id \"PB.1.5\"; ID \"PB.1.5\"; Parent \"PB.1\";\n",
            "Omy01\tmRNA\texon\t94351\t94442\t.\t+\t.\tgene_id \"PB.1\"; transcript_id \"PB.1.5\"; ID \"exon-7\"; Parent \"PB.1.5\";\n"
          ]
        }
      ]
    },
    {
      "cell_type": "code",
      "source": [
        "from google.colab import files\n",
        "\n",
        "def parse_attributes(attributes_str):\n",
        "    \"\"\"Parse the attributes column of a GTF file and return a dictionary.\"\"\"\n",
        "    attributes = {}\n",
        "    for item in attributes_str.split(';'):\n",
        "        item = item.strip()\n",
        "        if item:\n",
        "            parts = item.split(' ', 1)\n",
        "            if len(parts) == 2:\n",
        "                key, value = parts\n",
        "                attributes[key] = value.strip('\"')\n",
        "    return attributes\n",
        "\n",
        "def count_unique_exons(exons):\n",
        "    \"\"\"Count unique exons that do not overlap completely with any other exon.\"\"\"\n",
        "    unique_exons = set()\n",
        "    for exon in exons:\n",
        "        if exons.count(exon) == 1:\n",
        "            unique_exons.add(exon)\n",
        "    return len(unique_exons)\n",
        "\n",
        "def main():\n",
        "    file_name = 'Omyk.gtf'\n",
        "    output_file_name = 'gene_exon_counts.txt'\n",
        "\n",
        "    gene_info = {}\n",
        "\n",
        "    with open(file_name, 'r') as file:\n",
        "        for line in file:\n",
        "            if line.startswith('#'):\n",
        "                continue  # Skip comment lines\n",
        "            parts = line.strip().split('\\t')\n",
        "            if len(parts) < 9 or parts[2] != 'exon':\n",
        "                continue  # Skip non-exon lines\n",
        "\n",
        "            attributes = parse_attributes(parts[8])\n",
        "            gene_id = attributes.get('gene_id')\n",
        "            exon_start = int(parts[3])\n",
        "            exon_end = int(parts[4])\n",
        "            exon_range = (exon_start, exon_end)\n",
        "\n",
        "            if gene_id:\n",
        "                gene_info.setdefault(gene_id, []).append(exon_range)\n",
        "\n",
        "    # Writing results to a text file\n",
        "    with open(output_file_name, 'w') as out_file:\n",
        "        for gene_id, exons in gene_info.items():\n",
        "            unique_exon_count = count_unique_exons(exons)\n",
        "            out_file.write(f\"Gene: {gene_id}\\nUnique Exon Count: {unique_exon_count}\\n\\n\")\n",
        "\n",
        "    # Download the file\n",
        "    files.download(output_file_name)\n",
        "\n",
        "    print(f\"Results have been saved to {output_file_name} and are being downloaded.\")\n",
        "\n",
        "if __name__ == \"__main__\":\n",
        "    main()\n",
        "\n",
        "\n"
      ],
      "metadata": {
        "colab": {
          "base_uri": "https://localhost:8080/",
          "height": 34
        },
        "id": "QgIkecBCWQe5",
        "outputId": "98a60f2d-b741-4424-ba0d-4ffd3c562caa"
      },
      "execution_count": 23,
      "outputs": [
        {
          "output_type": "display_data",
          "data": {
            "text/plain": [
              "<IPython.core.display.Javascript object>"
            ],
            "application/javascript": [
              "\n",
              "    async function download(id, filename, size) {\n",
              "      if (!google.colab.kernel.accessAllowed) {\n",
              "        return;\n",
              "      }\n",
              "      const div = document.createElement('div');\n",
              "      const label = document.createElement('label');\n",
              "      label.textContent = `Downloading \"${filename}\": `;\n",
              "      div.appendChild(label);\n",
              "      const progress = document.createElement('progress');\n",
              "      progress.max = size;\n",
              "      div.appendChild(progress);\n",
              "      document.body.appendChild(div);\n",
              "\n",
              "      const buffers = [];\n",
              "      let downloaded = 0;\n",
              "\n",
              "      const channel = await google.colab.kernel.comms.open(id);\n",
              "      // Send a message to notify the kernel that we're ready.\n",
              "      channel.send({})\n",
              "\n",
              "      for await (const message of channel.messages) {\n",
              "        // Send a message to notify the kernel that we're ready.\n",
              "        channel.send({})\n",
              "        if (message.buffers) {\n",
              "          for (const buffer of message.buffers) {\n",
              "            buffers.push(buffer);\n",
              "            downloaded += buffer.byteLength;\n",
              "            progress.value = downloaded;\n",
              "          }\n",
              "        }\n",
              "      }\n",
              "      const blob = new Blob(buffers, {type: 'application/binary'});\n",
              "      const a = document.createElement('a');\n",
              "      a.href = window.URL.createObjectURL(blob);\n",
              "      a.download = filename;\n",
              "      div.appendChild(a);\n",
              "      a.click();\n",
              "      div.remove();\n",
              "    }\n",
              "  "
            ]
          },
          "metadata": {}
        },
        {
          "output_type": "display_data",
          "data": {
            "text/plain": [
              "<IPython.core.display.Javascript object>"
            ],
            "application/javascript": [
              "download(\"download_3ca12dfa-d7b4-4ba2-9baf-3ff6644ba8bc\", \"gene_exon_counts.txt\", 4134479)"
            ]
          },
          "metadata": {}
        },
        {
          "output_type": "stream",
          "name": "stdout",
          "text": [
            "Results have been saved to gene_exon_counts.txt and are being downloaded.\n"
          ]
        }
      ]
    }
  ]
}