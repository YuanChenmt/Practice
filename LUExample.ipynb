{
  "nbformat": 4,
  "nbformat_minor": 0,
  "metadata": {
    "colab": {
      "provenance": []
    },
    "kernelspec": {
      "name": "python3",
      "display_name": "Python 3"
    },
    "language_info": {
      "name": "python"
    }
  },
  "cells": [
    {
      "cell_type": "code",
      "execution_count": 3,
      "metadata": {
        "colab": {
          "base_uri": "https://localhost:8080/"
        },
        "id": "WnTQVrIZngop",
        "outputId": "6ff13b26-8444-4811-f300-2bee591c9bf1"
      },
      "outputs": [
        {
          "output_type": "stream",
          "name": "stdout",
          "text": [
            "Solution using Gaussian Elimination:\n",
            "[ 21.5  -3.   32.  -13. ]\n",
            "\n",
            "Solution using LU Factorization (with pivoting):\n",
            "[ 21.5  -3.   32.  -13. ]\n",
            "\n",
            "Are both results equal?  True\n"
          ]
        }
      ],
      "source": [
        "import numpy as np\n",
        "from scipy.linalg import lu_factor, lu_solve\n",
        "\n",
        "# Define matrix A and vector b\n",
        "A = np.array([\n",
        "    [2, 3, 1, 5],\n",
        "    [6, 13, 5, 19],\n",
        "    [2, 19, 10, 23],\n",
        "    [4, 10, 11, 31]\n",
        "], dtype=float)\n",
        "\n",
        "b = np.array([1, 3, 7, 5], dtype=float)\n",
        "\n",
        "#Method A: Gaussian Elimination\n",
        "x_gauss = np.linalg.solve(A, b)\n",
        "\n",
        "#Method B: LU Factorization with pivoting\n",
        "lu, piv = lu_factor(A)\n",
        "x_lu = lu_solve((lu, piv), b)\n",
        "\n",
        "# Output results\n",
        "print(\"Solution using Gaussian Elimination:\")\n",
        "print(x_gauss)\n",
        "\n",
        "print(\"\\nSolution using LU Factorization (with pivoting):\")\n",
        "print(x_lu)\n",
        "\n",
        "# Optional: check they are the same\n",
        "print(\"\\nAre both results equal? \", np.allclose(x_gauss, x_lu))\n"
      ]
    }
  ]
}